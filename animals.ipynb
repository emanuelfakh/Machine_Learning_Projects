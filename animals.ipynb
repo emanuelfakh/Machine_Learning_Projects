{
  "nbformat": 4,
  "nbformat_minor": 0,
  "metadata": {
    "colab": {
      "name": "animals.ipynb",
      "provenance": [],
      "collapsed_sections": [],
      "toc_visible": true,
      "include_colab_link": true
    },
    "kernelspec": {
      "name": "python3",
      "display_name": "Python 3"
    },
    "accelerator": "GPU"
  },
  "cells": [
    {
      "cell_type": "markdown",
      "metadata": {
        "id": "view-in-github",
        "colab_type": "text"
      },
      "source": [
        "<a href=\"https://colab.research.google.com/github/emanuelfakh/Machine_Learning_Projects/blob/master/animals.ipynb\" target=\"_parent\"><img src=\"https://colab.research.google.com/assets/colab-badge.svg\" alt=\"Open In Colab\"/></a>"
      ]
    },
    {
      "cell_type": "code",
      "metadata": {
        "id": "1VPQilr1ufIU",
        "colab_type": "code",
        "colab": {
          "base_uri": "https://localhost:8080/",
          "height": 343
        },
        "outputId": "90f65b41-dad6-42b2-eb64-16bca553a362"
      },
      "source": [
        "# Workshop seminar Week1 - Animal experiment\n",
        "\n",
        "import pylab\n",
        "\n",
        "#set line width\n",
        "pylab.rcParams['lines.linewidth'] = 4\n",
        "#set font size for titles \n",
        "pylab.rcParams['axes.titlesize'] = 18\n",
        "#set font size for labels on axes\n",
        "pylab.rcParams['axes.labelsize'] = 10\n",
        "#set size of numbers on x-axis\n",
        "pylab.rcParams['xtick.labelsize'] = 10\n",
        "#set size of numbers on y-axis\n",
        "pylab.rcParams['ytick.labelsize'] = 10\n",
        "#set size of ticks on x-axis\n",
        "pylab.rcParams['xtick.major.size'] = 7\n",
        "#set size of ticks on y-axis\n",
        "pylab.rcParams['ytick.major.size'] = 7\n",
        "#set size of markers\n",
        "pylab.rcParams['lines.markersize'] = 10\n",
        "\n",
        "\n",
        " \n",
        "def EucliedanDist(v1, v2):\n",
        "    \"\"\"Assumes v1 and v2 are equal-length arrays of numbers\n",
        "       Returns Eucliedan distance between v1 and v2\"\"\"\n",
        "    dist = 0.0\n",
        "    for i in range(len(v1)):\n",
        "        dist += abs(v1[i] - v2[i])**2\n",
        "    return dist**(1.0/2)\n",
        "\n",
        "\n",
        "\n",
        "class Animal(object):\n",
        "    def __init__(self, name, features):\n",
        "        \"\"\"Assumes name a string; features a list of numbers\"\"\"\n",
        "        self.name = name\n",
        "        self.features = pylab.array(features)\n",
        "        \n",
        "    def getName(self):\n",
        "        return self.name\n",
        "    \n",
        "    def getFeatures(self):\n",
        "        return self.features\n",
        "    \n",
        "    def distance(self, other):\n",
        "        \"\"\"Assumes other an Animal\n",
        "           Returns the Euclidean distance between feature vectors of self and other\"\"\"\n",
        "        return EucliedanDist(self.getFeatures(), other.getFeatures())\n",
        "\n",
        "\n",
        "\n",
        "def compareAnimals(animals, precision):\n",
        "    \"\"\"Assumes animals is a list of animals, precision an int >= 0\n",
        "       Builds a table of Euclidean distance between each animal\"\"\"\n",
        "    #Get labels for columns and rows\n",
        "    columnLabels = []\n",
        "    for a in animals:\n",
        "        columnLabels.append(a.getName())\n",
        "    rowLabels = columnLabels[:]\n",
        "    tableVals = []\n",
        "    #Get distances between pairs of animals\n",
        "    #For each row\n",
        "    for a1 in animals:\n",
        "        row = []\n",
        "        #For each column\n",
        "        for a2 in animals:\n",
        "            if a1 == a2:\n",
        "                row.append('--')\n",
        "            else:\n",
        "                distance = a1.distance(a2)\n",
        "                row.append(str(round(distance, precision)))\n",
        "        tableVals.append(row)\n",
        "    pylab.figure(figsize=(15,5))\n",
        "    #Produce table\n",
        "    table = pylab.table(rowLabels = rowLabels,\n",
        "                        colLabels = columnLabels,\n",
        "                        cellText = tableVals,\n",
        "                        cellLoc = 'center',\n",
        "                        loc = 'center',\n",
        "                        colWidths = [0.2]*len(animals))\n",
        "    \n",
        "    table.scale(1, 4)\n",
        "    table.set_fontsize(14)\n",
        "    pylab.title('Eucliedan Distance Between Animals')\n",
        "    pylab.show()\n",
        "\n",
        "\n",
        "\n",
        "\n",
        "rattlesnake = Animal('rattlesnake', [1,1,1,1,0])\n",
        "boa = Animal('boa', [0,1,0,1,0])\n",
        "frog = Animal('frog', [1,0,1,0,4])\n",
        "animals = [rattlesnake, boa, frog]\n",
        "compareAnimals(animals, 3)\n",
        "\n",
        "#crocodile = Animal('crocodile', [1,1,0,1,4])\n",
        "#animals.append(crocodile)\n",
        "#compareAnimals(animals, 3)\n",
        "\n",
        "\n",
        "\n",
        "\n",
        "\n"
      ],
      "execution_count": 1,
      "outputs": [
        {
          "output_type": "display_data",
          "data": {
            "image/png": "[encoded data removed]",
            "text/plain": [
              "<Figure size 1080x360 with 1 Axes>"
            ]
          },
          "metadata": {
            "tags": [],
            "needs_background": "light"
          }
        }
      ]
    },
    {
      "cell_type": "markdown",
      "metadata": {
        "id": "ih33Mgsn9nA-",
        "colab_type": "text"
      },
      "source": [
        "# New Section"
      ]
    }
  ]
}